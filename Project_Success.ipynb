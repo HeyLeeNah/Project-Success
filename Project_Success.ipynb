{
 "cells": [
  {
   "cell_type": "code",
   "execution_count": 21,
   "id": "cdd444b9",
   "metadata": {},
   "outputs": [],
   "source": [
    "import pandas as pd\n",
    "import matplotlib.pyplot as plt\n",
    "import numpy as np\n",
    "from sqlalchemy import create_engine\n",
    "from sqlalchemy.orm import sessionmaker\n",
    "from sqlalchemy_utils import database_exists, create_database\n",
    "from local_settings import postgresql as settings\n"
   ]
  },
  {
   "cell_type": "code",
   "execution_count": 22,
   "id": "ff802ae0",
   "metadata": {},
   "outputs": [],
   "source": [
    "def get_engine(user, passwd, host, port, db):\n",
    "    url = f\"postgresql://{user}:{passwd}@{host}:{port}/{db}\"\n",
    "    if not database_exists(url):\n",
    "        create_database(url)\n",
    "    engine = create_engine(url, pool_size=50, echo=False)\n",
    "    return engine"
   ]
  },
  {
   "cell_type": "code",
   "execution_count": 23,
   "id": "0f0c8db0",
   "metadata": {},
   "outputs": [],
   "source": [
    "engine = get_engine(settings['pguser'],\n",
    "                    settings['pgpasswd'],\n",
    "                    settings['pghost'],\n",
    "                    settings['pgport'],\n",
    "                    settings['pgdb'] )"
   ]
  },
  {
   "cell_type": "code",
   "execution_count": 24,
   "id": "99631b98",
   "metadata": {},
   "outputs": [
    {
     "data": {
      "text/plain": [
       "'Project_Success_01'"
      ]
     },
     "execution_count": 24,
     "metadata": {},
     "output_type": "execute_result"
    }
   ],
   "source": [
    "engine.url.database"
   ]
  },
  {
   "cell_type": "code",
   "execution_count": 25,
   "id": "8903f8b5",
   "metadata": {},
   "outputs": [],
   "source": [
    "def get_engine_from_settings():\n",
    "    keys = ['pguser','pgpasswd','pghost','pgport','pgdb']\n",
    "    if not all(key in keys for key in settings.keys()):\n",
    "        raise Exception('Bad config file')\n",
    "        \n",
    "    return get_engine(settings['pguser'],\n",
    "                      settings['pgpasswd'],\n",
    "                      settings['pghost'],\n",
    "                      settings['pgport'],\n",
    "                      settings['pgdb'])"
   ]
  },
  {
   "cell_type": "code",
   "execution_count": 26,
   "id": "9fe9b62c",
   "metadata": {},
   "outputs": [],
   "source": [
    "def get_session():\n",
    "    engine = get_engine_from_settings()\n",
    "    session = sessionmaker(bind=engine)()\n",
    "    return session\n"
   ]
  },
  {
   "cell_type": "code",
   "execution_count": 27,
   "id": "48cd49a0",
   "metadata": {},
   "outputs": [],
   "source": [
    "session = get_session()"
   ]
  },
  {
   "cell_type": "code",
   "execution_count": 28,
   "id": "61467bd8",
   "metadata": {},
   "outputs": [],
   "source": [
    "session.close()"
   ]
  },
  {
   "cell_type": "code",
   "execution_count": 29,
   "id": "414a1191",
   "metadata": {},
   "outputs": [],
   "source": [
    "engine = session.get_bind()\n",
    "engine.dispose()"
   ]
  },
  {
   "cell_type": "code",
   "execution_count": 30,
   "id": "78394402",
   "metadata": {},
   "outputs": [],
   "source": [
    "conn = engine.connect()"
   ]
  },
  {
   "cell_type": "code",
   "execution_count": 33,
   "id": "3d7c6603",
   "metadata": {},
   "outputs": [
    {
     "data": {
      "text/html": [
       "<div>\n",
       "<style scoped>\n",
       "    .dataframe tbody tr th:only-of-type {\n",
       "        vertical-align: middle;\n",
       "    }\n",
       "\n",
       "    .dataframe tbody tr th {\n",
       "        vertical-align: top;\n",
       "    }\n",
       "\n",
       "    .dataframe thead th {\n",
       "        text-align: right;\n",
       "    }\n",
       "</style>\n",
       "<table border=\"1\" class=\"dataframe\">\n",
       "  <thead>\n",
       "    <tr style=\"text-align: right;\">\n",
       "      <th></th>\n",
       "      <th>region</th>\n",
       "      <th>leadtime</th>\n",
       "    </tr>\n",
       "  </thead>\n",
       "  <tbody>\n",
       "    <tr>\n",
       "      <th>0</th>\n",
       "      <td>Midwest</td>\n",
       "      <td>15.365343</td>\n",
       "    </tr>\n",
       "    <tr>\n",
       "      <th>1</th>\n",
       "      <td>South</td>\n",
       "      <td>14.854839</td>\n",
       "    </tr>\n",
       "    <tr>\n",
       "      <th>2</th>\n",
       "      <td>West</td>\n",
       "      <td>15.308708</td>\n",
       "    </tr>\n",
       "    <tr>\n",
       "      <th>3</th>\n",
       "      <td>Northeast</td>\n",
       "      <td>15.069792</td>\n",
       "    </tr>\n",
       "  </tbody>\n",
       "</table>\n",
       "</div>"
      ],
      "text/plain": [
       "      region   leadtime\n",
       "0    Midwest  15.365343\n",
       "1      South  14.854839\n",
       "2       West  15.308708\n",
       "3  Northeast  15.069792"
      ]
     },
     "execution_count": 33,
     "metadata": {},
     "output_type": "execute_result"
    }
   ],
   "source": [
    "Avgleadtime_other=pd.read_sql(\"SELECT*FROM AvgLeadTimeOtherGuys\", conn)\n",
    "Avgleadtime_other.head()"
   ]
  },
  {
   "cell_type": "code",
   "execution_count": 34,
   "id": "c9a6581b",
   "metadata": {},
   "outputs": [
    {
     "data": {
      "text/html": [
       "<div>\n",
       "<style scoped>\n",
       "    .dataframe tbody tr th:only-of-type {\n",
       "        vertical-align: middle;\n",
       "    }\n",
       "\n",
       "    .dataframe tbody tr th {\n",
       "        vertical-align: top;\n",
       "    }\n",
       "\n",
       "    .dataframe thead th {\n",
       "        text-align: right;\n",
       "    }\n",
       "</style>\n",
       "<table border=\"1\" class=\"dataframe\">\n",
       "  <thead>\n",
       "    <tr style=\"text-align: right;\">\n",
       "      <th></th>\n",
       "      <th>region</th>\n",
       "      <th>leadtime</th>\n",
       "    </tr>\n",
       "  </thead>\n",
       "  <tbody>\n",
       "    <tr>\n",
       "      <th>0</th>\n",
       "      <td>South</td>\n",
       "      <td>1.953210</td>\n",
       "    </tr>\n",
       "    <tr>\n",
       "      <th>1</th>\n",
       "      <td>West</td>\n",
       "      <td>2.086912</td>\n",
       "    </tr>\n",
       "    <tr>\n",
       "      <th>2</th>\n",
       "      <td>East</td>\n",
       "      <td>2.021636</td>\n",
       "    </tr>\n",
       "    <tr>\n",
       "      <th>3</th>\n",
       "      <td>Central</td>\n",
       "      <td>2.053137</td>\n",
       "    </tr>\n",
       "  </tbody>\n",
       "</table>\n",
       "</div>"
      ],
      "text/plain": [
       "    region  leadtime\n",
       "0    South  1.953210\n",
       "1     West  2.086912\n",
       "2     East  2.021636\n",
       "3  Central  2.053137"
      ]
     },
     "execution_count": 34,
     "metadata": {},
     "output_type": "execute_result"
    }
   ],
   "source": [
    "Avgleadtimewalmart=pd.read_sql(\"SELECT*FROM Avgleadtimewalmart\", conn )\n",
    "Avgleadtimewalmart.head()"
   ]
  },
  {
   "cell_type": "code",
   "execution_count": 35,
   "id": "4aff167a",
   "metadata": {},
   "outputs": [
    {
     "data": {
      "text/html": [
       "<div>\n",
       "<style scoped>\n",
       "    .dataframe tbody tr th:only-of-type {\n",
       "        vertical-align: middle;\n",
       "    }\n",
       "\n",
       "    .dataframe tbody tr th {\n",
       "        vertical-align: top;\n",
       "    }\n",
       "\n",
       "    .dataframe thead th {\n",
       "        text-align: right;\n",
       "    }\n",
       "</style>\n",
       "<table border=\"1\" class=\"dataframe\">\n",
       "  <thead>\n",
       "    <tr style=\"text-align: right;\">\n",
       "      <th></th>\n",
       "      <th>state</th>\n",
       "      <th>totalsales</th>\n",
       "    </tr>\n",
       "  </thead>\n",
       "  <tbody>\n",
       "    <tr>\n",
       "      <th>0</th>\n",
       "      <td>California</td>\n",
       "      <td>3793084.4</td>\n",
       "    </tr>\n",
       "    <tr>\n",
       "      <th>1</th>\n",
       "      <td>Texas</td>\n",
       "      <td>1827458.5</td>\n",
       "    </tr>\n",
       "    <tr>\n",
       "      <th>2</th>\n",
       "      <td>Illinois</td>\n",
       "      <td>1443039.3</td>\n",
       "    </tr>\n",
       "    <tr>\n",
       "      <th>3</th>\n",
       "      <td>Florida</td>\n",
       "      <td>1341762.1</td>\n",
       "    </tr>\n",
       "    <tr>\n",
       "      <th>4</th>\n",
       "      <td>New York</td>\n",
       "      <td>913518.2</td>\n",
       "    </tr>\n",
       "  </tbody>\n",
       "</table>\n",
       "</div>"
      ],
      "text/plain": [
       "        state  totalsales\n",
       "0  California   3793084.4\n",
       "1       Texas   1827458.5\n",
       "2    Illinois   1443039.3\n",
       "3     Florida   1341762.1\n",
       "4    New York    913518.2"
      ]
     },
     "execution_count": 35,
     "metadata": {},
     "output_type": "execute_result"
    }
   ],
   "source": [
    "TotalproductSalesbyState=pd.read_sql(\"SELECT*FROM totalproductsalesbystate\", conn )\n",
    "TotalproductSalesbyState.head()"
   ]
  },
  {
   "cell_type": "code",
   "execution_count": 36,
   "id": "4244e684",
   "metadata": {},
   "outputs": [
    {
     "data": {
      "text/html": [
       "<div>\n",
       "<style scoped>\n",
       "    .dataframe tbody tr th:only-of-type {\n",
       "        vertical-align: middle;\n",
       "    }\n",
       "\n",
       "    .dataframe tbody tr th {\n",
       "        vertical-align: top;\n",
       "    }\n",
       "\n",
       "    .dataframe thead th {\n",
       "        text-align: right;\n",
       "    }\n",
       "</style>\n",
       "<table border=\"1\" class=\"dataframe\">\n",
       "  <thead>\n",
       "    <tr style=\"text-align: right;\">\n",
       "      <th></th>\n",
       "      <th>state</th>\n",
       "      <th>totalsales</th>\n",
       "    </tr>\n",
       "  </thead>\n",
       "  <tbody>\n",
       "    <tr>\n",
       "      <th>0</th>\n",
       "      <td>California</td>\n",
       "      <td>1372210.208</td>\n",
       "    </tr>\n",
       "    <tr>\n",
       "      <th>1</th>\n",
       "      <td>Illinois</td>\n",
       "      <td>959327.289</td>\n",
       "    </tr>\n",
       "    <tr>\n",
       "      <th>2</th>\n",
       "      <td>Texas</td>\n",
       "      <td>863891.026</td>\n",
       "    </tr>\n",
       "    <tr>\n",
       "      <th>3</th>\n",
       "      <td>Florida</td>\n",
       "      <td>777663.933</td>\n",
       "    </tr>\n",
       "    <tr>\n",
       "      <th>4</th>\n",
       "      <td>New York</td>\n",
       "      <td>738894.190</td>\n",
       "    </tr>\n",
       "  </tbody>\n",
       "</table>\n",
       "</div>"
      ],
      "text/plain": [
       "        state   totalsales\n",
       "0  California  1372210.208\n",
       "1    Illinois   959327.289\n",
       "2       Texas   863891.026\n",
       "3     Florida   777663.933\n",
       "4    New York   738894.190"
      ]
     },
     "execution_count": 36,
     "metadata": {},
     "output_type": "execute_result"
    }
   ],
   "source": [
    "totalwalmartsalesbystate=pd.read_sql(\"SELECT*FROM totalwalmartsalesbystate\", conn )\n",
    "totalwalmartsalesbystate.head()"
   ]
  },
  {
   "cell_type": "code",
   "execution_count": null,
   "id": "e7308e86",
   "metadata": {},
   "outputs": [],
   "source": []
  }
 ],
 "metadata": {
  "kernelspec": {
   "display_name": "Python 3 (ipykernel)",
   "language": "python",
   "name": "python3"
  },
  "language_info": {
   "codemirror_mode": {
    "name": "ipython",
    "version": 3
   },
   "file_extension": ".py",
   "mimetype": "text/x-python",
   "name": "python",
   "nbconvert_exporter": "python",
   "pygments_lexer": "ipython3",
   "version": "3.9.7"
  }
 },
 "nbformat": 4,
 "nbformat_minor": 5
}
