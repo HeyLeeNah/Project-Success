{
 "cells": [
  {
   "cell_type": "code",
   "execution_count": 2,
   "id": "cdd444b9",
   "metadata": {},
   "outputs": [
    {
     "ename": "ModuleNotFoundError",
     "evalue": "No module named 'local_settings'",
     "output_type": "error",
     "traceback": [
      "\u001b[0;31m---------------------------------------------------------------------------\u001b[0m",
      "\u001b[0;31mModuleNotFoundError\u001b[0m                       Traceback (most recent call last)",
      "\u001b[0;32m/var/folders/zt/g1x3dz1d04n1twnwy_ggbz_r0000gn/T/ipykernel_92762/3203418123.py\u001b[0m in \u001b[0;36m<module>\u001b[0;34m\u001b[0m\n\u001b[1;32m      5\u001b[0m \u001b[0;32mfrom\u001b[0m \u001b[0msqlalchemy\u001b[0m\u001b[0;34m.\u001b[0m\u001b[0morm\u001b[0m \u001b[0;32mimport\u001b[0m \u001b[0msessionmaker\u001b[0m\u001b[0;34m\u001b[0m\u001b[0;34m\u001b[0m\u001b[0m\n\u001b[1;32m      6\u001b[0m \u001b[0;32mfrom\u001b[0m \u001b[0msqlalchemy_utils\u001b[0m \u001b[0;32mimport\u001b[0m \u001b[0mdatabase_exists\u001b[0m\u001b[0;34m,\u001b[0m \u001b[0mcreate_database\u001b[0m\u001b[0;34m\u001b[0m\u001b[0;34m\u001b[0m\u001b[0m\n\u001b[0;32m----> 7\u001b[0;31m \u001b[0;32mfrom\u001b[0m \u001b[0mlocal_settings\u001b[0m \u001b[0;32mimport\u001b[0m \u001b[0mpostgresql\u001b[0m \u001b[0;32mas\u001b[0m \u001b[0msettings\u001b[0m\u001b[0;34m\u001b[0m\u001b[0;34m\u001b[0m\u001b[0m\n\u001b[0m",
      "\u001b[0;31mModuleNotFoundError\u001b[0m: No module named 'local_settings'"
     ]
    }
   ],
   "source": [
    "import pandas as pd\n",
    "import matplotlib.pyplot as plt\n",
    "import numpy as np\n",
    "from sqlalchemy import create_engine\n",
    "from sqlalchemy.orm import sessionmaker\n",
    "from sqlalchemy_utils import database_exists, create_database\n",
    "from local_settings import postgresql as settings\n"
   ]
  },
  {
   "cell_type": "code",
   "execution_count": null,
   "id": "ff802ae0",
   "metadata": {},
   "outputs": [],
   "source": [
    "def get_engine(user, passwd, host, port, db):\n",
    "    url = f\"postgresql://{user}:{passwd}@{host}:{port}/{db}\"\n",
    "    if not database_exists(url):\n",
    "        create_database(url)\n",
    "    engine = create_engine(url, pool_size=50, echo=False)\n",
    "    return engine"
   ]
  },
  {
   "cell_type": "code",
   "execution_count": null,
   "id": "0f0c8db0",
   "metadata": {},
   "outputs": [],
   "source": [
    "engine = get_engine(settings['pguser'],\n",
    "          settings['pgpasswd'],\n",
    "          settings['pghost'],\n",
    "          settings['Port'],\n",
    "          settings['pgdb'])"
   ]
  },
  {
   "cell_type": "code",
   "execution_count": null,
   "id": "99631b98",
   "metadata": {},
   "outputs": [],
   "source": [
    "engine.url.database"
   ]
  },
  {
   "cell_type": "code",
   "execution_count": null,
   "id": "9fe9b62c",
   "metadata": {},
   "outputs": [],
   "source": [
    "def get_session():\n",
    "    engine = get_engine_from_settings()\n",
    "    session = sessionmaker(bind=engine)()\n",
    "    return session\n"
   ]
  },
  {
   "cell_type": "code",
   "execution_count": null,
   "id": "48cd49a0",
   "metadata": {},
   "outputs": [],
   "source": [
    "session = get_session()"
   ]
  },
  {
   "cell_type": "code",
   "execution_count": null,
   "id": "61467bd8",
   "metadata": {},
   "outputs": [],
   "source": [
    "session.close()"
   ]
  },
  {
   "cell_type": "code",
   "execution_count": null,
   "id": "414a1191",
   "metadata": {},
   "outputs": [],
   "source": [
    "engine = session.get_bind()\n",
    "engine.dispose()"
   ]
  },
  {
   "cell_type": "code",
   "execution_count": null,
   "id": "78394402",
   "metadata": {},
   "outputs": [],
   "source": [
    "conn = engine.connect()"
   ]
  },
  {
   "cell_type": "code",
   "execution_count": null,
   "id": "3d7c6603",
   "metadata": {},
   "outputs": [],
   "source": [
    "data_emp=pd.read_sql(\"SELECT*FROM employees\", conn)\n",
    "data_emp.head()"
   ]
  }
 ],
 "metadata": {
  "kernelspec": {
   "display_name": "Python 3 (ipykernel)",
   "language": "python",
   "name": "python3"
  },
  "language_info": {
   "codemirror_mode": {
    "name": "ipython",
    "version": 3
   },
   "file_extension": ".py",
   "mimetype": "text/x-python",
   "name": "python",
   "nbconvert_exporter": "python",
   "pygments_lexer": "ipython3",
   "version": "3.9.7"
  }
 },
 "nbformat": 4,
 "nbformat_minor": 5
}
